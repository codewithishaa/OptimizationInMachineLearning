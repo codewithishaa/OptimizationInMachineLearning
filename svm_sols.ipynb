{
 "cells": [
  {
   "cell_type": "markdown",
   "id": "de5dc633",
   "metadata": {},
   "source": [
    "# Support Vector Machines\n",
    "\n",
    "In this notebook we will develop support vector machine models for several datasets by using them to formulate a constrained optimisation problem. First, we review how constrained optimisation is done in Python using [cvxpy](https://www.cvxpy.org).\n",
    "\n",
    "## Constrained Optimisation\n",
    "\n",
    "Consider the problem of minimising $x^2+y^2$ subject to the constraints $3x+2y>=7$ and $x+2y>=6$. Here is a visualisation of the solution along with the constraints and the function we are trying to minimise.\n",
    "\n",
    "<div>\n",
    "<img src=\"attachment:image.png\" width=\"500\"/>\n",
    "</div>"
   ]
  },
  {
   "cell_type": "markdown",
   "id": "becc3dda",
   "metadata": {},
   "source": [
    "Let's now solve this problem using cvxpy:"
   ]
  },
  {
   "cell_type": "code",
   "execution_count": null,
   "id": "85eed99f",
   "metadata": {},
   "outputs": [],
   "source": [
    "import cvxpy as cp"
   ]
  },
  {
   "cell_type": "code",
   "execution_count": null,
   "id": "25a65694",
   "metadata": {},
   "outputs": [],
   "source": [
    "# Create two scalar optimization variables.\n",
    "x = cp.Variable()\n",
    "y = cp.Variable()\n",
    "\n",
    "# Create two constraints.\n",
    "constraints = [3*x + 2*y >= 7,\n",
    "               x + 2*y >= 6]\n",
    "\n",
    "# Form objective.\n",
    "obj = cp.Minimize(cp.sum([cp.square(x), cp.square(y)]))\n",
    "\n",
    "# Form and solve problem.\n",
    "prob = cp.Problem(obj, constraints)\n",
    "prob.solve()  # Returns the optimal value.\n",
    "print(\"status:\", prob.status)\n",
    "print(\"optimal value\", prob.value)\n",
    "print(\"optimal var\", x.value, y.value)"
   ]
  },
  {
   "cell_type": "markdown",
   "id": "db1f1755",
   "metadata": {},
   "source": [
    "## Linear Support Vector Machine\n",
    "\n",
    "Let's now produce a support vector machine with some sample data. First, we need to define the samples, $x_i$. These are points in a 2D vector space which are labelled as either \"Plus\" or \"Minus\"."
   ]
  },
  {
   "cell_type": "code",
   "execution_count": null,
   "id": "4dbf5672",
   "metadata": {},
   "outputs": [],
   "source": [
    "import numpy as np\n",
    "import matplotlib.pyplot as plt"
   ]
  },
  {
   "cell_type": "code",
   "execution_count": null,
   "id": "5e08d7fa",
   "metadata": {},
   "outputs": [],
   "source": [
    "plus = np.array([[1.284422952732416,  2.481901856407326],\n",
    "               [1.4879960382523703, 2.402086883623099],\n",
    "               [4.193340935618989,  2.0674820899685353],\n",
    "               [1.07511361074236,   2.8655605261563037],\n",
    "               [4.5621522276001985, 2.3036590135818598],\n",
    "               [0.0734941576442104, 2.7567100412409644],\n",
    "               [2.0267587486366514, 1.8146817202743937],\n",
    "               [1.7160467347301873, 2.2314527869285374]])\n",
    "\n",
    "minus = np.array([[0.3650725217541822, 1.4540111456859945],\n",
    "                  [1.8799169703454597, 1.3235540770631689],\n",
    "                  [0.2775167301897557, 0.026781782266628973],\n",
    "                  [1.7185797382262036, 0.8439744313421516],\n",
    "                  [1.0440125841941863, 0.8714161830961258],\n",
    "                  [4.009012707820185,  0.4883132746354524],\n",
    "                  [0.0444111436444237, 1.0249991478151106],\n",
    "                  [1.4175016236764821, 0.3949618274790252],\n",
    "                  [0.4028778285168028, 0.35796696425588426],\n",
    "                  [1.3129335119181957, 0.193320544474747],\n",
    "                  [1.6678854129083547, 0.5245058562945744],\n",
    "                  [3.62477502445507,   0.2321920742831569]])"
   ]
  },
  {
   "cell_type": "code",
   "execution_count": null,
   "id": "03828201",
   "metadata": {},
   "outputs": [],
   "source": [
    "plt.plot(plus[:,0],plus[:,1],'+')\n",
    "plt.plot(minus[:,0],minus[:,1],'x')\n",
    "plt.show()"
   ]
  },
  {
   "cell_type": "markdown",
   "id": "6e4a8449",
   "metadata": {},
   "source": [
    "### Solving the primal problem\n",
    "\n",
    "We will now use cvxpy to solve the primal optimisation problem. We just need to set up the objective and the constraints, then ask it to solve."
   ]
  },
  {
   "cell_type": "code",
   "execution_count": null,
   "id": "2877cdb0",
   "metadata": {},
   "outputs": [],
   "source": [
    "w = cp.Variable(2)\n",
    "b = cp.Variable()"
   ]
  },
  {
   "cell_type": "markdown",
   "id": "35e8cd35-0c19-41ce-a2d2-ad6425292d3d",
   "metadata": {},
   "source": [
    "First, we need to set up the constraints imposed by the samples."
   ]
  },
  {
   "cell_type": "code",
   "execution_count": null,
   "id": "e8dfa3c5",
   "metadata": {},
   "outputs": [],
   "source": [
    "constraints = [plus@w+b >= +1, minus@w+b <= -1]"
   ]
  },
  {
   "cell_type": "markdown",
   "id": "83690da6-4a9f-40cf-a718-a0b364b5a9e2",
   "metadata": {},
   "source": [
    "Now we can use `Minimise` to set the objective"
   ]
  },
  {
   "cell_type": "code",
   "execution_count": null,
   "id": "0f44d7e2",
   "metadata": {},
   "outputs": [],
   "source": [
    "objective = cp.Minimize(cp.sum(cp.square(w)))"
   ]
  },
  {
   "cell_type": "markdown",
   "id": "e26a934a-6b51-4710-88ce-67e9a502afd5",
   "metadata": {},
   "source": [
    "Finally, we find the  solution to the constrained optimisation problem."
   ]
  },
  {
   "cell_type": "code",
   "execution_count": null,
   "id": "72f00322",
   "metadata": {
    "scrolled": true
   },
   "outputs": [],
   "source": [
    "# Form and solve problem.\n",
    "prob = cp.Problem(objective, constraints)\n",
    "\n",
    "# Solve the minimisation and return the optimal value.\n",
    "prob.solve()"
   ]
  },
  {
   "cell_type": "code",
   "execution_count": null,
   "id": "9cad9ca4",
   "metadata": {},
   "outputs": [],
   "source": [
    "print(\"status:\", prob.status)\n",
    "print(\"optimal value:\", prob.value)\n",
    "print(\"optimal var:\", w.value, b.value)"
   ]
  },
  {
   "cell_type": "code",
   "execution_count": null,
   "id": "cc5ee8d2-0921-4d9d-934d-7d59d5ec5b5c",
   "metadata": {},
   "outputs": [],
   "source": [
    "(w1, w2) = w.value\n",
    "b0 = b.value"
   ]
  },
  {
   "cell_type": "markdown",
   "id": "06de0b31-8888-43b6-8c00-76a76c5973c6",
   "metadata": {},
   "source": [
    "Now define a decision function $d(x)$ that takes in a new point and decides if it is a plus or minus"
   ]
  },
  {
   "cell_type": "code",
   "execution_count": null,
   "id": "dfd47932-f30e-4078-b548-264fa7bb1bab",
   "metadata": {},
   "outputs": [],
   "source": [
    "def decision(x):\n",
    "    w = np.array([w1, w2])\n",
    "    if w@x + b0 > 0:\n",
    "        return \"Plus\"\n",
    "    else:\n",
    "        return \"Minus\""
   ]
  },
  {
   "cell_type": "code",
   "execution_count": null,
   "id": "fcbeebb8-48a2-4b11-9ff6-33a76a6d2356",
   "metadata": {},
   "outputs": [],
   "source": [
    "decision([2,2])"
   ]
  },
  {
   "cell_type": "markdown",
   "id": "d41bbdf6-293e-4507-8de8-5f61fe5019b1",
   "metadata": {},
   "source": [
    "Our margins and decision line are given by solving $w^T x + b= \\{-1, 0, 1\\}$, ie.\n",
    "$$ x_2 = \\frac{- x_1 w_1 - b + \\{-1,0,1\\}}{w_2}$$\n",
    "Let's use this to plot our decision line, margins and data points:"
   ]
  },
  {
   "cell_type": "code",
   "execution_count": null,
   "id": "be4e2f90-8b5d-4175-85ec-844a7d528fc6",
   "metadata": {},
   "outputs": [],
   "source": [
    "plt.plot(plus[:,0],plus[:,1],'+')\n",
    "plt.plot(minus[:,0],minus[:,1],'x')\n",
    "plt.axline([0,(-b0+(+1))/w2], [1,(-w1-b0+(+1))/w2])\n",
    "plt.axline([0,(-b0+(-1))/w2], [1,(-w1-b0+(-1))/w2], c='r')\n",
    "plt.axline([0,(-b0+(0))/w2], [1,(-w1-b0+(0))/w2], c='k')\n",
    "plt.show()"
   ]
  },
  {
   "cell_type": "markdown",
   "id": "af715eae",
   "metadata": {},
   "source": [
    "### Solving the dual problem\n",
    "\n",
    "We could also solve the dual problem. First, we build up the matrix $X$ and vectors $y$, $\\lambda$ and $e$."
   ]
  },
  {
   "cell_type": "code",
   "execution_count": null,
   "id": "fd9161d4-e24d-41a2-8a5c-95dfc5dc792c",
   "metadata": {},
   "outputs": [],
   "source": [
    "X = np.concatenate((plus, -minus))\n",
    "y = np.concatenate((np.full(plus.shape[0],+1), np.full(minus.shape[0], -1)))\n",
    "N = y.shape\n",
    "e = np.ones(N)"
   ]
  },
  {
   "cell_type": "markdown",
   "id": "0be585ed-13e8-4292-a930-0ace9c3f1973",
   "metadata": {},
   "source": [
    "Now we can solve the dual optimisation problem (here we explicitly tell cvxpy that $X X^T$ is positive semi-definite by setting `assume_PSD = True`)"
   ]
  },
  {
   "cell_type": "code",
   "execution_count": null,
   "id": "4bfd2c20-e3e7-4fb9-aa02-a658f5d7682f",
   "metadata": {},
   "outputs": [],
   "source": [
    "lam = cp.Variable(N)\n",
    "\n",
    "obj = cp.Minimize(0.5*cp.quad_form(lam, X@X.T,assume_PSD=True) - e @ lam)\n",
    "\n",
    "prob = cp.Problem(obj,\n",
    "                 [y.T @ lam == 0,\n",
    "                  lam >= 0])\n",
    "\n",
    "prob.solve()"
   ]
  },
  {
   "cell_type": "markdown",
   "id": "535118d5-106e-4f35-8005-de1687e50388",
   "metadata": {},
   "source": [
    "Notice that only a small number of the $\\lambda_i$ are non-zero; these are the ones corresponding to the support vectors."
   ]
  },
  {
   "cell_type": "code",
   "execution_count": null,
   "id": "6a74d80a-768c-4c41-a7ad-adc0b6342f04",
   "metadata": {},
   "outputs": [],
   "source": [
    "print(\"status:\", prob.status)\n",
    "print(\"optimal value:\", prob.value)\n",
    "print(\"optimal var:\", lam.value)"
   ]
  },
  {
   "cell_type": "markdown",
   "id": "4579431c-523f-4144-8ea2-b143d6d59f5b",
   "metadata": {},
   "source": [
    "We can next compute the value for $w=X^T \\lambda$ and find $b$ from one of the constraints with a non-zero $\\lambda_i$ actually being an equality (rather than an inequality)."
   ]
  },
  {
   "cell_type": "code",
   "execution_count": null,
   "id": "7c2a9f1f-edff-4e9d-b711-4f60f2ae54be",
   "metadata": {},
   "outputs": [],
   "source": [
    "(w1_dual, w2_dual) = X.T@lam.value\n",
    "\n",
    "sv = lam.value.argmax()\n",
    "b_dual = y[sv]-([w1_dual, w2_dual]@X[sv]/y[sv])\n",
    "\n",
    "(w1_dual, w2_dual, b_dual)"
   ]
  },
  {
   "cell_type": "markdown",
   "id": "6ad52b9d-057f-4b20-93c5-f742ae05feb9",
   "metadata": {},
   "source": [
    "Check this agrees with what we found when solving the primal version."
   ]
  },
  {
   "cell_type": "code",
   "execution_count": null,
   "id": "fd4524f1-2595-42f5-b6e6-ba10c3a06725",
   "metadata": {},
   "outputs": [],
   "source": [
    "(w1,w2,b0)"
   ]
  },
  {
   "cell_type": "markdown",
   "id": "6a3831c6-e0a1-42e8-bce5-7448dcbd9037",
   "metadata": {},
   "source": [
    "Knowing the support vectors, we could also go the other way and obtain the $\\lambda$'s from the $w$ and $b$ found by solving the primal problem:"
   ]
  },
  {
   "cell_type": "code",
   "execution_count": null,
   "id": "27f64312-4d22-4daa-afd0-46eb42f3a14f",
   "metadata": {},
   "outputs": [],
   "source": [
    "np.linalg.inv(np.array([X[6],X[9]]).T)@[w1,w2]"
   ]
  },
  {
   "cell_type": "markdown",
   "id": "122084d6-f5ff-4aaf-8af0-a2b586e2eb73",
   "metadata": {},
   "source": [
    "Again, this is consistent with solving the dual problem."
   ]
  },
  {
   "cell_type": "markdown",
   "id": "0181e4fa-c380-4af4-974d-e2b2b2c6008f",
   "metadata": {},
   "source": [
    "## Kernel trick"
   ]
  },
  {
   "cell_type": "markdown",
   "id": "544d89e3-7436-408c-8269-80a86743d495",
   "metadata": {},
   "source": [
    "Consider the non-linearly separable data below"
   ]
  },
  {
   "cell_type": "code",
   "execution_count": null,
   "id": "955d6de9",
   "metadata": {},
   "outputs": [],
   "source": [
    "plus = np.array([[-0.19418006351395,-0.7939897238477599],[0.0009402659049429163,0.11141564362630568],[0.6985681983270928,-0.36790456437588814],\n",
    "   [-0.00295604144687557,-0.18777988106197538],[-0.23888242209918228,0.034500797441814446],[-0.02990472311744523,0.05854307847237184],\n",
    "   [-0.4835702248162677,0.24533902079622932],[0.20390719257284282,0.10887728322031986],[0.10538241515767546,-0.38172681750042337],\n",
    "   [-0.1824956607100494,-0.6762831160175996]])\n",
    "\n",
    "minus = np.array([[2.041251388907825,-0.35539451182767],[-0.729497294004517,1.9430725958833286],[-1.9582099623680669,-0.14589014711693948],\n",
    "   [0.7549130603093653,-1.6895760872115724],[-0.5094375357680065,1.9943197246955076],[-1.8706064275341703,-0.14104829949370085],\n",
    "   [1.4543618707479875,-1.18363578035018],[1.853565067751745,-0.4895674667312021],[1.9874646392084663,-0.5256987415568544],\n",
    "   [0.2956806496520435,2.0791324971956673]])"
   ]
  },
  {
   "cell_type": "code",
   "execution_count": null,
   "id": "f7b1640b-6c26-4713-83a5-bd34b2e05a99",
   "metadata": {},
   "outputs": [],
   "source": [
    "plt.plot(plus[:,0],plus[:,1],'+')\n",
    "plt.plot(minus[:,0],minus[:,1],'x')\n",
    "plt.axis('equal')\n",
    "plt.show()"
   ]
  },
  {
   "cell_type": "markdown",
   "id": "afb99067",
   "metadata": {},
   "source": [
    "Use the kernel trick to build a support vector machine in this case in several ways:\n",
    "\n",
    "- With an explicit polar coordinate map $\\phi(x,y)=(r,\\theta)$ that will transform the data into a nice form.\n",
    "- With a map that projects onto a higher dimension: $\\phi(x,y)=(x,y,x^2+y^2)$\n",
    "- With an implicit map using the kernel trick: instead of defining the map explicitly, the fact that our optimisation only depends on the inner product of samples means we can use the kernel trick. Define a kernel $k[(x_i,y_i),(x_j,y_j)]= x_i x_j + y_i y_j + (x_i^2+y_i^2)(x_j^2+y_j^2)$."
   ]
  },
  {
   "cell_type": "markdown",
   "id": "b68bbcfc-cd47-4c69-b88e-529093cf517f",
   "metadata": {},
   "source": [
    "### Explicit polar coordinate map"
   ]
  },
  {
   "cell_type": "code",
   "execution_count": null,
   "id": "0fbf4642-2cb6-438c-805d-45a1067817e1",
   "metadata": {},
   "outputs": [],
   "source": [
    "x_p = plus[:,0]\n",
    "y_p = plus[:,1]\n",
    "x_m = minus[:,0]\n",
    "y_m = minus[:,1]"
   ]
  },
  {
   "cell_type": "code",
   "execution_count": null,
   "id": "b011c170-bd79-434b-88be-a69d81c58909",
   "metadata": {},
   "outputs": [],
   "source": [
    "r_p = np.sqrt(x_p**2 + y_p**2)\n",
    "theta_p = np.arctan2(y_p, x_p)\n",
    "plus_polar = np.array([r_p, theta_p]).T\n",
    "\n",
    "r_m = np.sqrt(x_m**2 + y_m**2)\n",
    "theta_m = np.arctan2(y_m, x_m)\n",
    "minus_polar = np.array([r_m, theta_m]).T"
   ]
  },
  {
   "cell_type": "code",
   "execution_count": null,
   "id": "f0dc574b-3408-4df0-b038-38aaf500a725",
   "metadata": {
    "scrolled": true
   },
   "outputs": [],
   "source": [
    "plt.plot(r_p, theta_p,'+')\n",
    "plt.plot(r_m, theta_m,'x')\n",
    "plt.show()"
   ]
  },
  {
   "cell_type": "code",
   "execution_count": null,
   "id": "ac5e6508-a38f-4db6-b866-74c9bbfb30fe",
   "metadata": {},
   "outputs": [],
   "source": [
    "X = np.concatenate((plus_polar, -minus_polar))\n",
    "y = np.concatenate((np.full(plus_polar.shape[0],+1), np.full(minus_polar.shape[0], -1)))\n",
    "N = y.shape\n",
    "e = np.ones(N)\n",
    "\n",
    "lam = cp.Variable(N)\n",
    "\n",
    "obj = cp.Minimize(0.5*cp.quad_form(lam, X@X.T,assume_PSD=True) - e @ lam)\n",
    "\n",
    "prob = cp.Problem(obj,\n",
    "                 [y.T @ lam == 0,\n",
    "                  lam >= 0])\n",
    "\n",
    "prob.solve()"
   ]
  },
  {
   "cell_type": "code",
   "execution_count": null,
   "id": "60a55c42-646c-43e5-95ca-99952d327b36",
   "metadata": {
    "scrolled": true
   },
   "outputs": [],
   "source": [
    "print(\"status:\", prob.status)\n",
    "print(\"optimal value:\", prob.value)\n",
    "print(\"optimal var:\", lam.value)"
   ]
  },
  {
   "cell_type": "code",
   "execution_count": null,
   "id": "d4882761-ce86-40c8-9347-12a811d94581",
   "metadata": {
    "scrolled": true
   },
   "outputs": [],
   "source": [
    "(w1, w2) = X.T@lam.value\n",
    "\n",
    "sv = lam.value.argmax()\n",
    "b = y[sv]-([w1, w2]@X[sv]/y[sv])\n",
    "\n",
    "(w1, w2, b)"
   ]
  },
  {
   "cell_type": "markdown",
   "id": "dc2c4bc5-b778-4b1e-b787-97b676894af4",
   "metadata": {},
   "source": [
    "Now let's plot the decision line in the $r-\\theta$ coordinates"
   ]
  },
  {
   "cell_type": "code",
   "execution_count": null,
   "id": "b363047e-c177-409d-b960-c4e758dc80b2",
   "metadata": {},
   "outputs": [],
   "source": [
    "plt.plot(r_p, theta_p,'+')\n",
    "plt.plot(r_m, theta_m,'x')\n",
    "plt.axline([0,(-b+(+1))/w2], [1,(-w1-b+(+1))/w2])\n",
    "plt.axline([0,(-b+(-1))/w2], [1,(-w1-b+(-1))/w2], c='r')\n",
    "plt.axline([0,(-b+(0))/w2], [1,(-w1-b+(0))/w2], c='k')\n",
    "plt.ylim((-3.5,3.5))\n",
    "plt.show()"
   ]
  },
  {
   "cell_type": "markdown",
   "id": "22bcba2e-741a-432b-ac8a-d8ded7a49352",
   "metadata": {},
   "source": [
    "We can also draw them on the original plot"
   ]
  },
  {
   "cell_type": "code",
   "execution_count": null,
   "id": "1dc1c0c7-e9e7-4f3d-94c8-ef18c4486d20",
   "metadata": {},
   "outputs": [],
   "source": [
    "theta = np.linspace(-np.pi, np.pi, 100)\n",
    "r_plus = (-w2*theta-b+(+1))/w1\n",
    "r_minus = (-w2*theta-b+(-1))/w1\n",
    "r_d = (-w2*theta-b+(0))/w1"
   ]
  },
  {
   "cell_type": "code",
   "execution_count": null,
   "id": "13cdf325-44f0-4a4d-9bd8-6cfcb6731c92",
   "metadata": {},
   "outputs": [],
   "source": [
    "plt.plot(x_p, y_p, '+')\n",
    "plt.plot(x_m, y_m,'x')\n",
    "plt.plot(r_plus*np.cos(theta),r_plus*np.sin(theta),'b-')\n",
    "plt.plot(r_minus*np.cos(theta),r_minus*np.sin(theta),'r-')\n",
    "plt.plot(r_d*np.cos(theta),r_d*np.sin(theta),'k-')\n",
    "plt.axis('equal')\n",
    "plt.show()"
   ]
  },
  {
   "cell_type": "markdown",
   "id": "e5885a37-1897-41b0-9199-3224f60fb30c",
   "metadata": {},
   "source": [
    "### Explicit map to higher dimension\n",
    "\n",
    "Left as an exercise."
   ]
  },
  {
   "cell_type": "markdown",
   "id": "9fcf5337-fc9b-4620-a81e-3b090763f7bd",
   "metadata": {},
   "source": [
    "### Implicit kernels"
   ]
  },
  {
   "cell_type": "code",
   "execution_count": null,
   "id": "26aac623-b82f-4759-bfdd-f040240bb5dc",
   "metadata": {},
   "outputs": [],
   "source": [
    "def k(x1, x2):\n",
    "    return x1[0]*x2[0] + x1[1]*x2[1] + (x1[0]**2 + x1[1]**2)*(x2[0]**2 + x2[1]**2) "
   ]
  },
  {
   "cell_type": "code",
   "execution_count": null,
   "id": "2deb8ba5-5481-4cc6-939a-a2f1ef37170e",
   "metadata": {},
   "outputs": [],
   "source": [
    "X = np.concatenate((plus, minus))\n",
    "y = np.concatenate((np.full(plus.shape[0],+1), np.full(minus.shape[0], -1)))\n",
    "N = y.shape\n",
    "e = np.ones(N)"
   ]
  },
  {
   "cell_type": "code",
   "execution_count": null,
   "id": "cfab34d2-74da-4b56-970e-4d310ebe2a63",
   "metadata": {},
   "outputs": [],
   "source": [
    "XXT = np.array([[k(x1, x2) for x1 in X] for x2 in X])"
   ]
  },
  {
   "cell_type": "code",
   "execution_count": null,
   "id": "cf2ceb40-b8d7-4ca2-a1d0-9f3bd0cb24f8",
   "metadata": {},
   "outputs": [],
   "source": [
    "\n",
    "lam = cp.Variable(N)\n",
    "\n",
    "obj = cp.Minimize(0.5*cp.quad_form(cp.multiply(y,lam), XXT, assume_PSD = True) - e @ lam)\n",
    "\n",
    "prob = cp.Problem(obj,\n",
    "                 [y.T @ lam == 0,\n",
    "                  lam >= 0])\n",
    "\n",
    "prob.solve()"
   ]
  },
  {
   "cell_type": "code",
   "execution_count": null,
   "id": "bb79c62e-e86d-40bb-9866-1dec9c61db73",
   "metadata": {},
   "outputs": [],
   "source": [
    "lam.value*y"
   ]
  },
  {
   "cell_type": "markdown",
   "id": "14bc5e1a-74c3-4253-ad57-b1ccd2b22afb",
   "metadata": {},
   "source": [
    "We have now found the solution. In fact, it's the exact same solution as we found with the 3D map because this kernel is exactly the one you get from that map."
   ]
  },
  {
   "cell_type": "markdown",
   "id": "deacf4fd-efef-4517-8fff-b10edab3291e",
   "metadata": {},
   "source": [
    "We next find b from one of the constraints with a non-zero $\\lambda_i$ actually being an equality (rather than inequality)."
   ]
  },
  {
   "cell_type": "code",
   "execution_count": null,
   "id": "8fba3826-bb6f-4494-94dd-2f6dbc38372f",
   "metadata": {},
   "outputs": [],
   "source": [
    "b = 1 - (y*lam.value)@[k(xi,X[0]) for xi in X]\n",
    "b"
   ]
  },
  {
   "cell_type": "markdown",
   "id": "e31e3d3c-bf46-407c-b364-8c7990cf9d54",
   "metadata": {},
   "source": [
    "Now we draw our decision line and margins on the original plot"
   ]
  },
  {
   "cell_type": "code",
   "execution_count": null,
   "id": "3a61dbc7-5480-41c2-a60f-7ab05ad96525",
   "metadata": {},
   "outputs": [],
   "source": [
    "def decision(x):\n",
    "    return (y*lam.value)@[k(xi, x) for xi in X] + b"
   ]
  },
  {
   "cell_type": "code",
   "execution_count": null,
   "id": "391da6d2-eac5-47f0-8018-87351df15393",
   "metadata": {},
   "outputs": [],
   "source": [
    "xx = np.linspace(-2, 2, 100)\n",
    "yy = np.linspace(-2, 2, 100)\n",
    "h = [[decision([x,y]) for x in xx] for y in yy]"
   ]
  },
  {
   "cell_type": "code",
   "execution_count": null,
   "id": "a4ecc423-2718-4e96-9493-92935b7458a3",
   "metadata": {},
   "outputs": [],
   "source": [
    "plt.plot(x_p, y_p, '+')\n",
    "plt.plot(x_m, y_m,'x')\n",
    "plt.contour(xx, yy, h, levels=[-1,0,1], colors=['r', 'k', 'b'])\n",
    "plt.axis('equal')\n",
    "plt.show()"
   ]
  },
  {
   "cell_type": "markdown",
   "id": "b2bad74f",
   "metadata": {
    "jp-MarkdownHeadingCollapsed": true
   },
   "source": [
    "## Example: Handwriting recognition\n",
    "\n",
    "A nice example of the power of support vector machines is in [handwriting recognition](https://scikit-learn.org/stable/auto_examples/classification/plot_digits_classification.html)."
   ]
  }
 ],
 "metadata": {
  "kernelspec": {
   "display_name": "igwn-py310",
   "language": "python",
   "name": "python3"
  },
  "language_info": {
   "codemirror_mode": {
    "name": "ipython",
    "version": 3
   },
   "file_extension": ".py",
   "mimetype": "text/x-python",
   "name": "python",
   "nbconvert_exporter": "python",
   "pygments_lexer": "ipython3",
   "version": "3.10.13"
  }
 },
 "nbformat": 4,
 "nbformat_minor": 5
}
